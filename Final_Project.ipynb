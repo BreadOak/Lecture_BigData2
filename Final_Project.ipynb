{
 "cells": [
  {
   "cell_type": "code",
   "execution_count": 1,
   "id": "f099bb88",
   "metadata": {},
   "outputs": [],
   "source": [
    "import numpy as np\n",
    "import pandas as pd\n",
    "import os\n",
    "import pyspark\n",
    "from pyspark.ml import Pipeline\n",
    "from pyspark.ml.feature import VectorAssembler, StringIndexer\n",
    "from pyspark.ml.classification import LogisticRegression\n",
    "from pyspark.ml.evaluation import BinaryClassificationEvaluator\n",
    "from pyspark.sql.functions import lit,col\n",
    "from pyspark.sql import functions as F\n",
    "from pyspark.sql import SparkSession\n",
    "\n",
    "sc = pyspark.SparkContext.getOrCreate()\n",
    "spark = SparkSession.builder.getOrCreate()"
   ]
  },
  {
   "cell_type": "code",
   "execution_count": 2,
   "id": "3324d4d0",
   "metadata": {},
   "outputs": [],
   "source": [
    "## 데이터프레임으로 테이블 생성 ##\n",
    "\n",
    "trainDF = spark.read.format('csv')\\\n",
    ".option('header','true')\\\n",
    ".option('inferSchema','true')\\\n",
    ".load('C:/Users/Cloudy/spark_code/Spark-The-Definitive-Guide-master/data/final-data/train.csv')\n",
    "\n",
    "testDF = spark.read.format('csv')\\\n",
    ".option('header','true')\\\n",
    ".option('inferSchema','true')\\\n",
    ".load('C:/Users/Cloudy/spark_code/Spark-The-Definitive-Guide-master/data/final-data/test.csv')"
   ]
  },
  {
   "cell_type": "code",
   "execution_count": 3,
   "id": "84a01494",
   "metadata": {},
   "outputs": [],
   "source": [
    "#1. 데이터의 결측치는 0으로 채우기\n",
    "\n",
    "trainDF = trainDF.na.fill(0)\n",
    "testDF = testDF.na.fill(0)\n",
    "\n",
    "train = trainDF.withColumn('testOrtrain',lit('train'))\n",
    "test  = testDF.withColumn('testOrtrain',lit('test'))"
   ]
  },
  {
   "cell_type": "code",
   "execution_count": 4,
   "id": "da378531",
   "metadata": {},
   "outputs": [
    {
     "name": "stdout",
     "output_type": "stream",
     "text": [
      "+-----------+--------+------+--------------------+------+----+-----+-----+----------------+-------+-----+--------+-----------+--------------------+\n",
      "|PassengerId|Survived|Pclass|                Name|   Sex| Age|SibSp|Parch|          Ticket|   Fare|Cabin|Embarked|testOrtrain|            features|\n",
      "+-----------+--------+------+--------------------+------+----+-----+-----+----------------+-------+-----+--------+-----------+--------------------+\n",
      "|          1|       0|     3|Braund, Mr. Owen ...|  male|22.0|    1|    0|       A/5 21171|   7.25| null|       S|      train|[3.0,22.0,1.0,0.0...|\n",
      "|          2|       1|     1|Cumings, Mrs. Joh...|female|38.0|    1|    0|        PC 17599|71.2833|  C85|       C|      train|[1.0,38.0,1.0,0.0...|\n",
      "|          3|       1|     3|Heikkinen, Miss. ...|female|26.0|    0|    0|STON/O2. 3101282|  7.925| null|       S|      train|[3.0,26.0,0.0,0.0...|\n",
      "|          4|       1|     1|Futrelle, Mrs. Ja...|female|35.0|    1|    0|          113803|   53.1| C123|       S|      train|[1.0,35.0,1.0,0.0...|\n",
      "|          5|       0|     3|Allen, Mr. Willia...|  male|35.0|    0|    0|          373450|   8.05| null|       S|      train|[3.0,35.0,0.0,0.0...|\n",
      "+-----------+--------+------+--------------------+------+----+-----+-----+----------------+-------+-----+--------+-----------+--------------------+\n",
      "only showing top 5 rows\n",
      "\n"
     ]
    }
   ],
   "source": [
    "## 데이터 입력을 위한 벡터화\n",
    "\n",
    "df = train.union(test)\n",
    "va = VectorAssembler(inputCols = ['Pclass','Age','SibSp','Parch','Fare'], outputCol='features')\n",
    "pipeline = Pipeline(stages=[va])\n",
    "model = pipeline.fit(df)\n",
    "myDF = model.transform(df)\n",
    "myDF.show(5)"
   ]
  },
  {
   "cell_type": "code",
   "execution_count": 5,
   "id": "66e8d3df",
   "metadata": {},
   "outputs": [],
   "source": [
    "## 데이터 검증을 위한 데이터 구분\n",
    "\n",
    "train = myDF.filter(myDF['testOrtrain']=='train')\n",
    "trainDF, validateDF = train.randomSplit([0.7,0.3], seed = 11)\n",
    "testDF = myDF.filter(myDF['testOrtrain']=='test')"
   ]
  },
  {
   "cell_type": "code",
   "execution_count": 6,
   "id": "22f21917",
   "metadata": {},
   "outputs": [
    {
     "data": {
      "text/plain": [
       "[('PassengerId', 'int'),\n",
       " ('Survived', 'int'),\n",
       " ('Pclass', 'int'),\n",
       " ('Age', 'double'),\n",
       " ('SibSp', 'int'),\n",
       " ('Parch', 'int'),\n",
       " ('Fare', 'double'),\n",
       " ('features', 'vector')]"
      ]
     },
     "execution_count": 6,
     "metadata": {},
     "output_type": "execute_result"
    }
   ],
   "source": [
    "#2. Train data 중 datatype이 string인 칼럼들 제거\n",
    "\n",
    "train_ = trainDF\n",
    "\n",
    "for i in range(len(trainDF.dtypes)):\n",
    "    if trainDF.dtypes[i][1] == 'string':\n",
    "        train_ = train_.drop(trainDF.dtypes[i][0])\n",
    "        \n",
    "trainDF = train_\n",
    "trainDF.dtypes "
   ]
  },
  {
   "cell_type": "code",
   "execution_count": 7,
   "id": "46a7c176",
   "metadata": {},
   "outputs": [
    {
     "data": {
      "text/plain": [
       "[('PassengerId', 'int'),\n",
       " ('Survived', 'int'),\n",
       " ('Pclass', 'int'),\n",
       " ('Sex', 'string'),\n",
       " ('Age', 'double'),\n",
       " ('SibSp', 'int'),\n",
       " ('Parch', 'int'),\n",
       " ('Fare', 'double'),\n",
       " ('features', 'vector')]"
      ]
     },
     "execution_count": 7,
     "metadata": {},
     "output_type": "execute_result"
    }
   ],
   "source": [
    "#3. Test data 중 성별 칼럼을 제외한 datatype이 string인 칼럼들 제거\n",
    "\n",
    "test_ = testDF\n",
    "\n",
    "for i in range(len(testDF.dtypes)):\n",
    "    if (testDF.dtypes[i][1] == 'string') and (testDF.dtypes[i][0]!='Sex'):\n",
    "        test_ = test_.drop(test.dtypes[i][0])\n",
    "\n",
    "testDF = test_\n",
    "testDF.dtypes  "
   ]
  },
  {
   "cell_type": "code",
   "execution_count": 8,
   "id": "764596db",
   "metadata": {},
   "outputs": [],
   "source": [
    "#4. 학습에는 Pclass, Age, SibSp, Parch, Fare 칼럼만 사용('features')\n",
    "\n",
    "## LogisticRegression 모델 생성\n",
    "lr = (LogisticRegression().\n",
    "      setLabelCol('Survived').\n",
    "      setFeaturesCol('features').\n",
    "      setRegParam(0.0).\n",
    "      setMaxIter(100).\n",
    "      setElasticNetParam(0.))\n",
    "\n",
    "lrModel = lr.fit(trainDF)"
   ]
  },
  {
   "cell_type": "code",
   "execution_count": 9,
   "id": "18a89e8e",
   "metadata": {},
   "outputs": [
    {
     "name": "stdout",
     "output_type": "stream",
     "text": [
      "+-----------+--------+------+------+----+-----+-----+--------+--------------------+\n",
      "|PassengerId|Survived|Pclass|   Sex| Age|SibSp|Parch|    Fare|            features|\n",
      "+-----------+--------+------+------+----+-----+-----+--------+--------------------+\n",
      "|        698|       1|     3|female| 0.0|    0|    0|  7.7333|(5,[0,4],[3.0,7.7...|\n",
      "|        701|       1|     1|female|18.0|    1|    0| 227.525|[1.0,18.0,1.0,0.0...|\n",
      "|        703|       0|     3|female|18.0|    0|    1| 14.4542|[3.0,18.0,0.0,1.0...|\n",
      "|        707|       1|     2|female|45.0|    0|    0|    13.5|[2.0,45.0,0.0,0.0...|\n",
      "|        709|       1|     1|female|22.0|    0|    0|  151.55|[1.0,22.0,0.0,0.0...|\n",
      "|        711|       1|     1|female|24.0|    0|    0| 49.5042|[1.0,24.0,0.0,0.0...|\n",
      "|        717|       1|     1|female|38.0|    0|    0| 227.525|[1.0,38.0,0.0,0.0...|\n",
      "|        718|       1|     2|female|27.0|    0|    0|    10.5|[2.0,27.0,0.0,0.0...|\n",
      "|        721|       1|     2|female| 6.0|    0|    1|    33.0|[2.0,6.0,0.0,1.0,...|\n",
      "|        727|       1|     2|female|30.0|    3|    0|    21.0|[2.0,30.0,3.0,0.0...|\n",
      "|        728|       1|     3|female| 0.0|    0|    0|  7.7375|(5,[0,4],[3.0,7.7...|\n",
      "|        730|       0|     3|female|25.0|    1|    0|   7.925|[3.0,25.0,1.0,0.0...|\n",
      "|        731|       1|     1|female|29.0|    0|    0|211.3375|[1.0,29.0,0.0,0.0...|\n",
      "|        737|       0|     3|female|48.0|    1|    3|  34.375|[3.0,48.0,1.0,3.0...|\n",
      "|        743|       1|     1|female|21.0|    2|    2| 262.375|[1.0,21.0,2.0,2.0...|\n",
      "|        748|       1|     2|female|30.0|    0|    0|    13.0|[2.0,30.0,0.0,0.0...|\n",
      "|        751|       1|     2|female| 4.0|    1|    1|    23.0|[2.0,4.0,1.0,1.0,...|\n",
      "|        755|       1|     2|female|48.0|    1|    2|    65.0|[2.0,48.0,1.0,2.0...|\n",
      "|        760|       1|     1|female|33.0|    0|    0|    86.5|[1.0,33.0,0.0,0.0...|\n",
      "|        764|       1|     1|female|36.0|    1|    2|   120.0|[1.0,36.0,1.0,2.0...|\n",
      "+-----------+--------+------+------+----+-----+-----+--------+--------------------+\n",
      "only showing top 20 rows\n",
      "\n",
      "+----------+--------+-----+\n",
      "|prediction|Survived|count|\n",
      "+----------+--------+-----+\n",
      "|       1.0|       0|    1|\n",
      "|       0.0|       0|   15|\n",
      "|       0.0|       1|   23|\n",
      "|       1.0|       1|   25|\n",
      "+----------+--------+-----+\n",
      "\n",
      "72.91666666666667 %\n"
     ]
    }
   ],
   "source": [
    "#5. 테스트 데이터 중 여성 승객의 데이터만 테스트\n",
    "\n",
    "femailDF = testDF.filter(testDF.Sex == 'female')\n",
    "femailDF.show()\n",
    "\n",
    "## 모델예측 & 모델평가\n",
    "lrDF = lrModel.transform(femailDF)\n",
    "lrDF.groupBy('prediction','Survived').count().show()\n",
    "evaluator = BinaryClassificationEvaluator(rawPredictionCol = 'prediction', labelCol = 'Survived')\n",
    "print(evaluator.evaluate(lrDF)*100,'%')"
   ]
  },
  {
   "cell_type": "code",
   "execution_count": 10,
   "id": "e8733ba5",
   "metadata": {},
   "outputs": [
    {
     "name": "stdout",
     "output_type": "stream",
     "text": [
      "+-----------+-----+\n",
      "|testOrtrain|count|\n",
      "+-----------+-----+\n",
      "|      train|  697|\n",
      "|       test|  192|\n",
      "+-----------+-----+\n",
      "\n"
     ]
    }
   ],
   "source": [
    "#1) train 데이터와 test 데이터 개수\n",
    "\n",
    "df.groupBy('testOrtrain').count().show()"
   ]
  },
  {
   "cell_type": "code",
   "execution_count": 11,
   "id": "71312e2d",
   "metadata": {},
   "outputs": [
    {
     "name": "stdout",
     "output_type": "stream",
     "text": [
      "+-----------+--------+------+----+-----+-----+-------+--------------------+\n",
      "|PassengerId|Survived|Pclass| Age|SibSp|Parch|   Fare|            features|\n",
      "+-----------+--------+------+----+-----+-----+-------+--------------------+\n",
      "|          1|       0|     3|22.0|    1|    0|   7.25|[3.0,22.0,1.0,0.0...|\n",
      "|          2|       1|     1|38.0|    1|    0|71.2833|[1.0,38.0,1.0,0.0...|\n",
      "|          3|       1|     3|26.0|    0|    0|  7.925|[3.0,26.0,0.0,0.0...|\n",
      "|          4|       1|     1|35.0|    1|    0|   53.1|[1.0,35.0,1.0,0.0...|\n",
      "|          5|       0|     3|35.0|    0|    0|   8.05|[3.0,35.0,0.0,0.0...|\n",
      "+-----------+--------+------+----+-----+-----+-------+--------------------+\n",
      "only showing top 5 rows\n",
      "\n"
     ]
    }
   ],
   "source": [
    "# 2) 학습에 사용된 train 데이터 테이블(모든 칼럼 5개까지 표시)\n",
    "\n",
    "trainDF.show(5)"
   ]
  },
  {
   "cell_type": "code",
   "execution_count": 12,
   "id": "52b96baa",
   "metadata": {},
   "outputs": [
    {
     "name": "stdout",
     "output_type": "stream",
     "text": [
      "+-----------+--------+------+------+----+-----+-----+--------+--------------------+\n",
      "|PassengerId|Survived|Pclass|   Sex| Age|SibSp|Parch|    Fare|            features|\n",
      "+-----------+--------+------+------+----+-----+-----+--------+--------------------+\n",
      "|        698|       1|     3|female| 0.0|    0|    0|  7.7333|(5,[0,4],[3.0,7.7...|\n",
      "|        699|       0|     1|  male|49.0|    1|    1|110.8833|[1.0,49.0,1.0,1.0...|\n",
      "|        700|       0|     3|  male|42.0|    0|    0|    7.65|[3.0,42.0,0.0,0.0...|\n",
      "|        701|       1|     1|female|18.0|    1|    0| 227.525|[1.0,18.0,1.0,0.0...|\n",
      "|        702|       1|     1|  male|35.0|    0|    0| 26.2875|[1.0,35.0,0.0,0.0...|\n",
      "+-----------+--------+------+------+----+-----+-----+--------+--------------------+\n",
      "only showing top 5 rows\n",
      "\n"
     ]
    }
   ],
   "source": [
    "# 3) 학습에 사용된 test 데이터 테이블(모든 칼럼 5개까지 표시)\n",
    "\n",
    "testDF.show(5)"
   ]
  },
  {
   "cell_type": "code",
   "execution_count": 13,
   "id": "5dc67b9f",
   "metadata": {},
   "outputs": [
    {
     "name": "stdout",
     "output_type": "stream",
     "text": [
      "+----------+--------+-----+\n",
      "|prediction|Survived|count|\n",
      "+----------+--------+-----+\n",
      "|       1.0|       0|   20|\n",
      "|       0.0|       0|  104|\n",
      "|       0.0|       1|   41|\n",
      "|       1.0|       1|   37|\n",
      "+----------+--------+-----+\n",
      "\n",
      "65.65343258891647 %\n"
     ]
    }
   ],
   "source": [
    "# 4) Lab8에서 다룬 Logistic regression 모델을 사용한 예측 모델의 정확도 결과\n",
    "\n",
    "## 모델 예측\n",
    "lrDF = lrModel.transform(validateDF)\n",
    "lrDF.groupBy('prediction','Survived').count().show()\n",
    "\n",
    "## 모델 평가\n",
    "evaluator = BinaryClassificationEvaluator(rawPredictionCol = 'prediction', labelCol = 'Survived')\n",
    "print(evaluator.evaluate(lrDF)*100,'%')"
   ]
  }
 ],
 "metadata": {
  "kernelspec": {
   "display_name": "Python 3 (ipykernel)",
   "language": "python",
   "name": "python3"
  },
  "language_info": {
   "codemirror_mode": {
    "name": "ipython",
    "version": 3
   },
   "file_extension": ".py",
   "mimetype": "text/x-python",
   "name": "python",
   "nbconvert_exporter": "python",
   "pygments_lexer": "ipython3",
   "version": "3.7.13"
  }
 },
 "nbformat": 4,
 "nbformat_minor": 5
}
